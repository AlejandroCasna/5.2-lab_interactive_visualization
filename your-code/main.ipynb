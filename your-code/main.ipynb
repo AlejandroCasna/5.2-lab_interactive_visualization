{
 "cells": [
  {
   "cell_type": "markdown",
   "metadata": {},
   "source": [
    "# Interactive Visualization Lab\n",
    "\n",
    "Complete the following set of exercises to solidify your knowledge of interactive visualization using Plotly, Cufflinks, and IPyWidgets."
   ]
  },
  {
   "cell_type": "code",
   "execution_count": 1,
   "metadata": {},
   "outputs": [
    {
     "ename": "ModuleNotFoundError",
     "evalue": "No module named 'plotly'",
     "output_type": "error",
     "traceback": [
      "\u001b[1;31m---------------------------------------------------------------------------\u001b[0m",
      "\u001b[1;31mModuleNotFoundError\u001b[0m                       Traceback (most recent call last)",
      "\u001b[1;32mc:\\ironhack\\Semana_5\\5.2-lab_interactive_visualization\\your-code\\main.ipynb Celda 2\u001b[0m line \u001b[0;36m2\n\u001b[0;32m      <a href='vscode-notebook-cell:/c%3A/ironhack/Semana_5/5.2-lab_interactive_visualization/your-code/main.ipynb#W1sZmlsZQ%3D%3D?line=0'>1</a>\u001b[0m \u001b[39mimport\u001b[39;00m \u001b[39mpandas\u001b[39;00m \u001b[39mas\u001b[39;00m \u001b[39mpd\u001b[39;00m\n\u001b[1;32m----> <a href='vscode-notebook-cell:/c%3A/ironhack/Semana_5/5.2-lab_interactive_visualization/your-code/main.ipynb#W1sZmlsZQ%3D%3D?line=1'>2</a>\u001b[0m \u001b[39mimport\u001b[39;00m \u001b[39mplotly\u001b[39;00m\u001b[39m.\u001b[39;00m\u001b[39mplotly\u001b[39;00m \u001b[39mas\u001b[39;00m \u001b[39mpy\u001b[39;00m\n\u001b[0;32m      <a href='vscode-notebook-cell:/c%3A/ironhack/Semana_5/5.2-lab_interactive_visualization/your-code/main.ipynb#W1sZmlsZQ%3D%3D?line=2'>3</a>\u001b[0m \u001b[39mimport\u001b[39;00m \u001b[39mcufflinks\u001b[39;00m \u001b[39mas\u001b[39;00m \u001b[39mcf\u001b[39;00m\n\u001b[0;32m      <a href='vscode-notebook-cell:/c%3A/ironhack/Semana_5/5.2-lab_interactive_visualization/your-code/main.ipynb#W1sZmlsZQ%3D%3D?line=3'>4</a>\u001b[0m \u001b[39mfrom\u001b[39;00m \u001b[39mipywidgets\u001b[39;00m \u001b[39mimport\u001b[39;00m interact\n",
      "\u001b[1;31mModuleNotFoundError\u001b[0m: No module named 'plotly'"
     ]
    }
   ],
   "source": [
    "import pandas as pd\n",
    "import plotly.plotly as py\n",
    "import cufflinks as cf\n",
    "from ipywidgets import interact\n",
    "\n",
    "cf.go_offline()"
   ]
  },
  {
   "cell_type": "code",
   "execution_count": null,
   "metadata": {},
   "outputs": [
    {
     "name": "stdout",
     "output_type": "stream",
     "text": [
      "Collecting plotly\n",
      "  Obtaining dependency information for plotly from https://files.pythonhosted.org/packages/a8/07/72953cf70e3bd3a24cbc3e743e6f8539abe6e3e6d83c3c0c83426eaffd39/plotly-5.18.0-py3-none-any.whl.metadata\n",
      "  Downloading plotly-5.18.0-py3-none-any.whl.metadata (7.0 kB)\n",
      "Collecting tenacity>=6.2.0 (from plotly)\n",
      "  Obtaining dependency information for tenacity>=6.2.0 from https://files.pythonhosted.org/packages/f4/f1/990741d5bb2487d529d20a433210ffa136a367751e454214013b441c4575/tenacity-8.2.3-py3-none-any.whl.metadata\n",
      "  Downloading tenacity-8.2.3-py3-none-any.whl.metadata (1.0 kB)\n",
      "Requirement already satisfied: packaging in c:\\users\\alejandro\\anaconda3\\envs\\clase\\lib\\site-packages (from plotly) (23.2)\n",
      "Downloading plotly-5.18.0-py3-none-any.whl (15.6 MB)\n",
      "   ---------------------------------------- 0.0/15.6 MB ? eta -:--:--\n",
      "   ---------------------------------------- 0.1/15.6 MB 1.7 MB/s eta 0:00:10\n",
      "    --------------------------------------- 0.2/15.6 MB 2.5 MB/s eta 0:00:07\n",
      "    --------------------------------------- 0.4/15.6 MB 2.5 MB/s eta 0:00:07\n",
      "   - -------------------------------------- 0.5/15.6 MB 2.4 MB/s eta 0:00:07\n",
      "   - -------------------------------------- 0.6/15.6 MB 2.7 MB/s eta 0:00:06\n",
      "   - -------------------------------------- 0.7/15.6 MB 2.7 MB/s eta 0:00:06\n",
      "   -- ------------------------------------- 0.9/15.6 MB 2.8 MB/s eta 0:00:06\n",
      "   -- ------------------------------------- 1.0/15.6 MB 2.8 MB/s eta 0:00:06\n",
      "   -- ------------------------------------- 1.2/15.6 MB 2.9 MB/s eta 0:00:06\n",
      "   --- ------------------------------------ 1.3/15.6 MB 2.8 MB/s eta 0:00:06\n",
      "   --- ------------------------------------ 1.5/15.6 MB 2.8 MB/s eta 0:00:06\n",
      "   ---- ----------------------------------- 1.6/15.6 MB 2.9 MB/s eta 0:00:05\n",
      "   ---- ----------------------------------- 1.7/15.6 MB 2.9 MB/s eta 0:00:05\n",
      "   ---- ----------------------------------- 1.9/15.6 MB 2.9 MB/s eta 0:00:05\n",
      "   ----- ---------------------------------- 2.0/15.6 MB 2.9 MB/s eta 0:00:05\n",
      "   ----- ---------------------------------- 2.2/15.6 MB 3.0 MB/s eta 0:00:05\n",
      "   ----- ---------------------------------- 2.3/15.6 MB 3.0 MB/s eta 0:00:05\n",
      "   ------ --------------------------------- 2.5/15.6 MB 3.0 MB/s eta 0:00:05\n",
      "   ------ --------------------------------- 2.6/15.6 MB 3.0 MB/s eta 0:00:05\n",
      "   ------- -------------------------------- 2.7/15.6 MB 3.0 MB/s eta 0:00:05\n",
      "   ------- -------------------------------- 2.9/15.6 MB 3.0 MB/s eta 0:00:05\n",
      "   ------- -------------------------------- 3.0/15.6 MB 3.0 MB/s eta 0:00:05\n",
      "   -------- ------------------------------- 3.2/15.6 MB 3.0 MB/s eta 0:00:05\n",
      "   -------- ------------------------------- 3.3/15.6 MB 3.0 MB/s eta 0:00:05\n",
      "   -------- ------------------------------- 3.5/15.6 MB 3.0 MB/s eta 0:00:05\n",
      "   --------- ------------------------------ 3.6/15.6 MB 3.0 MB/s eta 0:00:05\n",
      "   --------- ------------------------------ 3.7/15.6 MB 3.0 MB/s eta 0:00:04\n",
      "   --------- ------------------------------ 3.9/15.6 MB 3.0 MB/s eta 0:00:04\n",
      "   ---------- ----------------------------- 4.0/15.6 MB 3.0 MB/s eta 0:00:04\n",
      "   ---------- ----------------------------- 4.2/15.6 MB 3.0 MB/s eta 0:00:04\n",
      "   ---------- ----------------------------- 4.3/15.6 MB 3.0 MB/s eta 0:00:04\n",
      "   ----------- ---------------------------- 4.4/15.6 MB 3.0 MB/s eta 0:00:04\n",
      "   ----------- ---------------------------- 4.6/15.6 MB 3.0 MB/s eta 0:00:04\n",
      "   ------------ --------------------------- 4.7/15.6 MB 3.0 MB/s eta 0:00:04\n",
      "   ------------ --------------------------- 4.9/15.6 MB 3.0 MB/s eta 0:00:04\n",
      "   ------------ --------------------------- 5.0/15.6 MB 3.0 MB/s eta 0:00:04\n",
      "   ------------- -------------------------- 5.2/15.6 MB 3.0 MB/s eta 0:00:04\n",
      "   ------------- -------------------------- 5.3/15.6 MB 3.0 MB/s eta 0:00:04\n",
      "   ------------- -------------------------- 5.4/15.6 MB 3.0 MB/s eta 0:00:04\n",
      "   -------------- ------------------------- 5.6/15.6 MB 3.0 MB/s eta 0:00:04\n",
      "   -------------- ------------------------- 5.7/15.6 MB 3.0 MB/s eta 0:00:04\n",
      "   -------------- ------------------------- 5.9/15.6 MB 3.0 MB/s eta 0:00:04\n",
      "   --------------- ------------------------ 6.0/15.6 MB 3.0 MB/s eta 0:00:04\n",
      "   --------------- ------------------------ 6.2/15.6 MB 3.0 MB/s eta 0:00:04\n",
      "   ---------------- ----------------------- 6.3/15.6 MB 3.0 MB/s eta 0:00:04\n",
      "   ---------------- ----------------------- 6.4/15.6 MB 3.0 MB/s eta 0:00:04\n",
      "   ---------------- ----------------------- 6.6/15.6 MB 3.0 MB/s eta 0:00:03\n",
      "   ----------------- ---------------------- 6.7/15.6 MB 3.0 MB/s eta 0:00:03\n",
      "   ----------------- ---------------------- 6.9/15.6 MB 3.0 MB/s eta 0:00:03\n",
      "   ----------------- ---------------------- 7.0/15.6 MB 3.0 MB/s eta 0:00:03\n",
      "   ------------------ --------------------- 7.1/15.6 MB 3.0 MB/s eta 0:00:03\n",
      "   ------------------ --------------------- 7.3/15.6 MB 3.0 MB/s eta 0:00:03\n",
      "   ------------------- -------------------- 7.4/15.6 MB 3.0 MB/s eta 0:00:03\n",
      "   ------------------- -------------------- 7.6/15.6 MB 3.0 MB/s eta 0:00:03\n",
      "   ------------------- -------------------- 7.7/15.6 MB 3.0 MB/s eta 0:00:03\n",
      "   -------------------- ------------------- 7.9/15.6 MB 3.0 MB/s eta 0:00:03\n",
      "   -------------------- ------------------- 8.0/15.6 MB 3.0 MB/s eta 0:00:03\n",
      "   -------------------- ------------------- 8.1/15.6 MB 3.0 MB/s eta 0:00:03\n",
      "   --------------------- ------------------ 8.3/15.6 MB 3.0 MB/s eta 0:00:03\n",
      "   --------------------- ------------------ 8.4/15.6 MB 3.0 MB/s eta 0:00:03\n",
      "   --------------------- ------------------ 8.6/15.6 MB 3.0 MB/s eta 0:00:03\n",
      "   ---------------------- ----------------- 8.7/15.6 MB 3.0 MB/s eta 0:00:03\n",
      "   ---------------------- ----------------- 8.8/15.6 MB 3.0 MB/s eta 0:00:03\n",
      "   ----------------------- ---------------- 9.0/15.6 MB 3.0 MB/s eta 0:00:03\n",
      "   ----------------------- ---------------- 9.1/15.6 MB 3.0 MB/s eta 0:00:03\n",
      "   ----------------------- ---------------- 9.3/15.6 MB 3.0 MB/s eta 0:00:03\n",
      "   ------------------------ --------------- 9.4/15.6 MB 3.0 MB/s eta 0:00:03\n",
      "   ------------------------ --------------- 9.6/15.6 MB 3.0 MB/s eta 0:00:03\n",
      "   ------------------------ --------------- 9.7/15.6 MB 3.0 MB/s eta 0:00:02\n",
      "   ------------------------- -------------- 9.9/15.6 MB 3.0 MB/s eta 0:00:02\n",
      "   ------------------------- -------------- 10.0/15.6 MB 3.0 MB/s eta 0:00:02\n",
      "   ------------------------- -------------- 10.1/15.6 MB 3.0 MB/s eta 0:00:02\n",
      "   -------------------------- ------------- 10.3/15.6 MB 3.0 MB/s eta 0:00:02\n",
      "   -------------------------- ------------- 10.4/15.6 MB 3.1 MB/s eta 0:00:02\n",
      "   -------------------------- ------------- 10.5/15.6 MB 3.1 MB/s eta 0:00:02\n",
      "   --------------------------- ------------ 10.7/15.6 MB 3.1 MB/s eta 0:00:02\n",
      "   --------------------------- ------------ 10.8/15.6 MB 3.1 MB/s eta 0:00:02\n",
      "   ---------------------------- ----------- 11.0/15.6 MB 3.1 MB/s eta 0:00:02\n",
      "   ---------------------------- ----------- 11.1/15.6 MB 3.1 MB/s eta 0:00:02\n",
      "   ---------------------------- ----------- 11.3/15.6 MB 3.1 MB/s eta 0:00:02\n",
      "   ----------------------------- ---------- 11.4/15.6 MB 3.0 MB/s eta 0:00:02\n",
      "   ----------------------------- ---------- 11.6/15.6 MB 3.1 MB/s eta 0:00:02\n",
      "   ----------------------------- ---------- 11.7/15.6 MB 3.1 MB/s eta 0:00:02\n",
      "   ------------------------------ --------- 11.8/15.6 MB 3.1 MB/s eta 0:00:02\n",
      "   ------------------------------ --------- 12.0/15.6 MB 3.1 MB/s eta 0:00:02\n",
      "   ------------------------------ --------- 12.1/15.6 MB 3.1 MB/s eta 0:00:02\n",
      "   ------------------------------- -------- 12.3/15.6 MB 3.1 MB/s eta 0:00:02\n",
      "   ------------------------------- -------- 12.4/15.6 MB 3.0 MB/s eta 0:00:02\n",
      "   -------------------------------- ------- 12.6/15.6 MB 3.0 MB/s eta 0:00:02\n",
      "   -------------------------------- ------- 12.7/15.6 MB 3.1 MB/s eta 0:00:01\n",
      "   -------------------------------- ------- 12.8/15.6 MB 3.1 MB/s eta 0:00:01\n",
      "   --------------------------------- ------ 13.0/15.6 MB 3.1 MB/s eta 0:00:01\n",
      "   --------------------------------- ------ 13.1/15.6 MB 3.1 MB/s eta 0:00:01\n",
      "   --------------------------------- ------ 13.3/15.6 MB 3.1 MB/s eta 0:00:01\n",
      "   ---------------------------------- ----- 13.4/15.6 MB 3.1 MB/s eta 0:00:01\n",
      "   ---------------------------------- ----- 13.5/15.6 MB 3.1 MB/s eta 0:00:01\n",
      "   ---------------------------------- ----- 13.7/15.6 MB 3.1 MB/s eta 0:00:01\n",
      "   ----------------------------------- ---- 13.8/15.6 MB 3.1 MB/s eta 0:00:01\n",
      "   ----------------------------------- ---- 14.0/15.6 MB 3.1 MB/s eta 0:00:01\n",
      "   ------------------------------------ --- 14.1/15.6 MB 3.1 MB/s eta 0:00:01\n",
      "   ------------------------------------ --- 14.2/15.6 MB 3.1 MB/s eta 0:00:01\n",
      "   ------------------------------------ --- 14.4/15.6 MB 3.1 MB/s eta 0:00:01\n",
      "   ------------------------------------- -- 14.6/15.6 MB 3.1 MB/s eta 0:00:01\n",
      "   ------------------------------------- -- 14.7/15.6 MB 3.1 MB/s eta 0:00:01\n",
      "   ------------------------------------- -- 14.8/15.6 MB 3.1 MB/s eta 0:00:01\n",
      "   -------------------------------------- - 15.0/15.6 MB 3.1 MB/s eta 0:00:01\n",
      "   -------------------------------------- - 15.1/15.6 MB 3.1 MB/s eta 0:00:01\n",
      "   ---------------------------------------  15.3/15.6 MB 3.1 MB/s eta 0:00:01\n",
      "   ---------------------------------------  15.4/15.6 MB 3.1 MB/s eta 0:00:01\n",
      "   ---------------------------------------  15.5/15.6 MB 3.1 MB/s eta 0:00:01\n",
      "   ---------------------------------------  15.6/15.6 MB 3.1 MB/s eta 0:00:01\n",
      "   ---------------------------------------- 15.6/15.6 MB 3.0 MB/s eta 0:00:00\n",
      "Downloading tenacity-8.2.3-py3-none-any.whl (24 kB)\n",
      "Installing collected packages: tenacity, plotly\n",
      "Successfully installed plotly-5.18.0 tenacity-8.2.3\n",
      "Note: you may need to restart the kernel to use updated packages.\n"
     ]
    }
   ],
   "source": [
    "pip install plotly\n"
   ]
  },
  {
   "cell_type": "code",
   "execution_count": null,
   "metadata": {},
   "outputs": [],
   "source": []
  },
  {
   "cell_type": "code",
   "execution_count": null,
   "metadata": {},
   "outputs": [],
   "source": []
  },
  {
   "cell_type": "markdown",
   "metadata": {},
   "source": [
    "## 1. Create an interactive bar chart showing total quantity and revenue by country (excluding United Kingdom) for the month of April 2011."
   ]
  },
  {
   "cell_type": "code",
   "execution_count": null,
   "metadata": {},
   "outputs": [],
   "source": []
  },
  {
   "cell_type": "code",
   "execution_count": null,
   "metadata": {},
   "outputs": [],
   "source": []
  },
  {
   "cell_type": "markdown",
   "metadata": {},
   "source": [
    "## 2. Create an interactive line chart showing quantity and revenue sold to France between January 1st and May 31st 2011."
   ]
  },
  {
   "cell_type": "code",
   "execution_count": null,
   "metadata": {},
   "outputs": [],
   "source": []
  },
  {
   "cell_type": "code",
   "execution_count": null,
   "metadata": {},
   "outputs": [],
   "source": []
  },
  {
   "cell_type": "code",
   "execution_count": null,
   "metadata": {},
   "outputs": [],
   "source": []
  },
  {
   "cell_type": "markdown",
   "metadata": {},
   "source": [
    "## 3. Create an interactive scatter plot showing the relationship between average quantity (x-axis) and average unit price (y-axis) for the product PARTY BUNTING with the plot points color-coded by country (categories)."
   ]
  },
  {
   "cell_type": "code",
   "execution_count": null,
   "metadata": {},
   "outputs": [],
   "source": []
  },
  {
   "cell_type": "code",
   "execution_count": null,
   "metadata": {},
   "outputs": [],
   "source": []
  },
  {
   "cell_type": "markdown",
   "metadata": {},
   "source": [
    "## 4. Create a set of interactive histograms showing the distributions of quantity per invoice for the following countries: EIRE, Germany, France, and Netherlands."
   ]
  },
  {
   "cell_type": "code",
   "execution_count": null,
   "metadata": {},
   "outputs": [],
   "source": []
  },
  {
   "cell_type": "code",
   "execution_count": null,
   "metadata": {},
   "outputs": [],
   "source": []
  },
  {
   "cell_type": "code",
   "execution_count": null,
   "metadata": {},
   "outputs": [],
   "source": []
  },
  {
   "cell_type": "code",
   "execution_count": null,
   "metadata": {},
   "outputs": [],
   "source": []
  },
  {
   "cell_type": "markdown",
   "metadata": {},
   "source": [
    "## 5. Create an interactive side-by-side bar chart showing the revenue by country listed below (bars) for each of the products listed below."
   ]
  },
  {
   "cell_type": "code",
   "execution_count": null,
   "metadata": {},
   "outputs": [],
   "source": []
  },
  {
   "cell_type": "code",
   "execution_count": null,
   "metadata": {},
   "outputs": [],
   "source": []
  },
  {
   "cell_type": "markdown",
   "metadata": {},
   "source": [
    "## 6. Create an interactive line chart showing quantity sold by day for the United Kingdom. Add drop-down boxes for Year and Month that allow you to filter the date range that appears in the chart."
   ]
  },
  {
   "cell_type": "code",
   "execution_count": null,
   "metadata": {},
   "outputs": [],
   "source": []
  },
  {
   "cell_type": "code",
   "execution_count": null,
   "metadata": {},
   "outputs": [],
   "source": []
  },
  {
   "cell_type": "code",
   "execution_count": null,
   "metadata": {},
   "outputs": [],
   "source": []
  },
  {
   "cell_type": "markdown",
   "metadata": {},
   "source": [
    "## 7. Create an interactive scatter plot that plots number of invoices (x-axis) vs. number of customers (y-axis) and the plot points represent individual products. Add two sliders that control the x and y axis ranges."
   ]
  },
  {
   "cell_type": "code",
   "execution_count": null,
   "metadata": {},
   "outputs": [],
   "source": []
  },
  {
   "cell_type": "code",
   "execution_count": null,
   "metadata": {},
   "outputs": [],
   "source": []
  },
  {
   "cell_type": "code",
   "execution_count": null,
   "metadata": {},
   "outputs": [],
   "source": []
  },
  {
   "cell_type": "markdown",
   "metadata": {},
   "source": [
    "## 8. Creat an interactive bar chart that shows revenue by product description. Add a text field widget that filters the results to show the product that contain the text entered in their description."
   ]
  },
  {
   "cell_type": "code",
   "execution_count": null,
   "metadata": {},
   "outputs": [],
   "source": []
  }
 ],
 "metadata": {
  "kernelspec": {
   "display_name": "Python 3 (ipykernel)",
   "language": "python",
   "name": "python3"
  },
  "language_info": {
   "codemirror_mode": {
    "name": "ipython",
    "version": 3
   },
   "file_extension": ".py",
   "mimetype": "text/x-python",
   "name": "python",
   "nbconvert_exporter": "python",
   "pygments_lexer": "ipython3",
   "version": "3.10.13"
  }
 },
 "nbformat": 4,
 "nbformat_minor": 2
}
